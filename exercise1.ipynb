{
 "cells": [
  {
   "cell_type": "markdown",
   "id": "74e02642",
   "metadata": {},
   "source": [
    "## Exercise 1"
   ]
  },
  {
   "cell_type": "markdown",
   "id": "5fb85c5e",
   "metadata": {},
   "source": [
    "#### Question 1:\n",
    "Write a function that receives a list as parameter and return how many elements it has; if it doesn't have any element return an error."
   ]
  },
  {
   "cell_type": "markdown",
   "id": "e0bc596b",
   "metadata": {},
   "source": [
    "#### Answer 1:"
   ]
  },
  {
   "cell_type": "code",
   "execution_count": null,
   "id": "bd94655f",
   "metadata": {},
   "outputs": [],
   "source": [
    "def count_elements(my_list):\n",
    "    \"\"\"\n",
    "    This function returns the number of elements in the list.\n",
    "    If the list is empty, it raises an error.\n",
    "    \"\"\"\n",
    "    if len(my_list) == 0:\n",
    "        raise ValueError(\"The list is empty. Cannot count elements.\")\n",
    "    return len(my_list)"
   ]
  },
  {
   "cell_type": "markdown",
   "id": "50eb6779",
   "metadata": {},
   "source": [
    "#### Question 2:\n",
    "Write a function that builds a character‑count dict from a string, with an option to ignore case."
   ]
  },
  {
   "cell_type": "markdown",
   "id": "862eb2c2",
   "metadata": {},
   "source": [
    "#### Answer 2:"
   ]
  },
  {
   "cell_type": "code",
   "execution_count": 1,
   "id": "efd8d341",
   "metadata": {},
   "outputs": [],
   "source": [
    "def char_count(text, ignore_case=False):\n",
    "    if ignore_case:\n",
    "        text = text.lower() \n",
    "\n",
    "    count_dict = {}\n",
    "    for char in text:\n",
    "        if char in count_dict:\n",
    "            count_dict[char] += 1\n",
    "        else:\n",
    "            count_dict[char] = 1\n",
    "    return count_dict\n"
   ]
  },
  {
   "cell_type": "markdown",
   "id": "a2ae4501",
   "metadata": {},
   "source": [
    "#### Question 3:\n",
    "Write a function that filters a list of numbers by a threshold and returns their squares"
   ]
  },
  {
   "cell_type": "markdown",
   "id": "25a2ba90",
   "metadata": {},
   "source": [
    "#### Answer 3:"
   ]
  },
  {
   "cell_type": "code",
   "execution_count": null,
   "id": "723403ef",
   "metadata": {},
   "outputs": [],
   "source": [
    "def filter_and_square(numbers, threshold):\n",
    "    new_list = []\n",
    "    for number in numbers:\n",
    "        if number > threshold:\n",
    "            new_list.append(number * number)\n",
    "    return new_list\n",
    " "
   ]
  }
 ],
 "metadata": {
  "kernelspec": {
   "display_name": "base",
   "language": "python",
   "name": "python3"
  },
  "language_info": {
   "codemirror_mode": {
    "name": "ipython",
    "version": 3
   },
   "file_extension": ".py",
   "mimetype": "text/x-python",
   "name": "python",
   "nbconvert_exporter": "python",
   "pygments_lexer": "ipython3",
   "version": "3.12.7"
  }
 },
 "nbformat": 4,
 "nbformat_minor": 5
}
