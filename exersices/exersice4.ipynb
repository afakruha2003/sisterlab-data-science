{
 "cells": [
  {
   "cell_type": "code",
   "execution_count": 1,
   "id": "80af6be2",
   "metadata": {},
   "outputs": [],
   "source": [
    "import requests\n",
    "url = \"https://realpython.github.io/fake-jobs/\"\n",
    "page = requests.get(url)\n"
   ]
  },
  {
   "cell_type": "code",
   "execution_count": 2,
   "id": "fc8cabd9",
   "metadata": {},
   "outputs": [],
   "source": [
    "from bs4 import BeautifulSoup\n",
    "soup = BeautifulSoup(page.content, \"html.parser\")\n"
   ]
  },
  {
   "cell_type": "code",
   "execution_count": 3,
   "id": "1abd11cc",
   "metadata": {},
   "outputs": [],
   "source": [
    "job_elements = soup.find_all(\"div\", class_=\"card-content\")\n"
   ]
  },
  {
   "cell_type": "code",
   "execution_count": null,
   "id": "1acd8255",
   "metadata": {},
   "outputs": [],
   "source": [
    "python_jobs = []\n",
    "\n",
    "for job_element in job_elements:\n",
    "    # İş başlığını al\n",
    "    title_elem = job_element.find(\"h2\", class_=\"title\")\n",
    "    if title_elem:\n",
    "        title = title_elem.text.strip()\n",
    "        if \"python\" in title.lower():\n",
    "            # Şirket adı\n",
    "            company_elem = job_element.find(\"h3\", class_=\"subtitle\")\n",
    "            company = company_elem.text.strip() if company_elem else \"Unknown\"\n",
    "\n",
    "            # Lokasyon\n",
    "            location_elem = job_element.find(\"p\", class_=\"location\")\n",
    "            location = location_elem.text.strip() if location_elem else \"Unknown\"\n",
    "\n",
    "            # Başvuru linki (ilk <a> etiketi)\n",
    "            link_elem = job_element.find(\"a\")\n",
    "            link = link_elem[\"href\"] if link_elem and link_elem.has_attr(\"href\") else \"No link\"\n",
    "\n",
    "            # Sonuçlara ekle\n",
    "            python_jobs.append({\n",
    "                \"Title\": title,\n",
    "                \"Company\": company,\n",
    "                \"Location\": location,\n",
    "                \"Link\": link\n",
    "            })\n"
   ]
  },
  {
   "cell_type": "code",
   "execution_count": 6,
   "id": "33a0b5e4",
   "metadata": {},
   "outputs": [
    {
     "name": "stdout",
     "output_type": "stream",
     "text": [
      "                                     Title                   Company  \\\n",
      "0                  Senior Python Developer  Payne, Roberts and Davis   \n",
      "1               Software Engineer (Python)                Garcia PLC   \n",
      "2          Python Programmer (Entry-Level)    Moss, Duncan and Allen   \n",
      "3          Python Programmer (Entry-Level)           Cooper and Sons   \n",
      "4              Software Developer (Python)              Adams-Brewer   \n",
      "5                         Python Developer           Rivera and Sons   \n",
      "6  Back-End Web Developer (Python, Django)         Stewart-Alexander   \n",
      "7  Back-End Web Developer (Python, Django)    Jackson, Ali and Mckee   \n",
      "8          Python Programmer (Entry-Level)               Mathews Inc   \n",
      "9              Software Developer (Python)          Moreno-Rodriguez   \n",
      "\n",
      "                Location                        Link  \n",
      "0        Stewartbury, AA  https://www.realpython.com  \n",
      "1           Ericberg, AE  https://www.realpython.com  \n",
      "2          Port Sara, AE  https://www.realpython.com  \n",
      "3        West Victor, AE  https://www.realpython.com  \n",
      "4         Brockburgh, AE  https://www.realpython.com  \n",
      "5   East Michaelfort, AA  https://www.realpython.com  \n",
      "6     South Kimberly, AA  https://www.realpython.com  \n",
      "7  New Elizabethside, AA  https://www.realpython.com  \n",
      "8      Robertborough, AP  https://www.realpython.com  \n",
      "9      Martinezburgh, AE  https://www.realpython.com  \n"
     ]
    }
   ],
   "source": [
    "import pandas as pd\n",
    "\n",
    "df = pd.DataFrame(python_jobs)\n",
    "print(df)\n"
   ]
  },
  {
   "cell_type": "code",
   "execution_count": null,
   "id": "011bea3e",
   "metadata": {},
   "outputs": [
    {
     "ename": "TypeError",
     "evalue": "sequence item 0: expected str instance, dict found",
     "output_type": "error",
     "traceback": [
      "\u001b[1;31m---------------------------------------------------------------------------\u001b[0m",
      "\u001b[1;31mTypeError\u001b[0m                                 Traceback (most recent call last)",
      "Cell \u001b[1;32mIn[9], line 15\u001b[0m\n\u001b[0;32m     12\u001b[0m plt\u001b[38;5;241m.\u001b[39mfigure(figsize\u001b[38;5;241m=\u001b[39m(\u001b[38;5;241m10\u001b[39m, \u001b[38;5;241m5\u001b[39m))\n\u001b[0;32m     14\u001b[0m \u001b[38;5;66;03m# WordCloud için metni birleştir\u001b[39;00m\n\u001b[1;32m---> 15\u001b[0m text \u001b[38;5;241m=\u001b[39m \u001b[38;5;124;43m\"\u001b[39;49m\u001b[38;5;124;43m \u001b[39;49m\u001b[38;5;124;43m\"\u001b[39;49m\u001b[38;5;241;43m.\u001b[39;49m\u001b[43mjoin\u001b[49m\u001b[43m(\u001b[49m\u001b[43mpython_jobs\u001b[49m\u001b[43m)\u001b[49m\n\u001b[0;32m     17\u001b[0m \u001b[38;5;66;03m# Kelime bulutu oluştur\u001b[39;00m\n\u001b[0;32m     18\u001b[0m wordcloud \u001b[38;5;241m=\u001b[39m WordCloud(width\u001b[38;5;241m=\u001b[39m\u001b[38;5;241m1000\u001b[39m, height\u001b[38;5;241m=\u001b[39m\u001b[38;5;241m400\u001b[39m, background_color\u001b[38;5;241m=\u001b[39m\u001b[38;5;124m\"\u001b[39m\u001b[38;5;124mwhite\u001b[39m\u001b[38;5;124m\"\u001b[39m)\u001b[38;5;241m.\u001b[39mgenerate(text)\n",
      "\u001b[1;31mTypeError\u001b[0m: sequence item 0: expected str instance, dict found"
     ]
    },
    {
     "data": {
      "text/plain": [
       "<Figure size 1000x500 with 0 Axes>"
      ]
     },
     "metadata": {},
     "output_type": "display_data"
    }
   ],
   "source": [
    "import matplotlib.pyplot as plt\n",
    "from wordcloud import WordCloud\n",
    "# Eğer job_types boşsa, iş türlerinin çekilmediğini anlarız\n",
    "if len(python_jobs) == 0:\n",
    "    print(\"No job types found.\")\n",
    "else:\n",
    "    # Pandas ile say\n",
    "    type_df = pd.DataFrame(python_jobs, columns=[\"Type\"])\n",
    "    type_counts = type_df[\"Type\"].value_counts()\n",
    "\n",
    "    # Görselleştir\n",
    "    plt.figure(figsize=(10, 5))\n",
    "    \n",
    "\n",
    "\n",
    "    # WordCloud için metni birleştir\n",
    "    text = \" \".join(python_jobs)\n",
    "\n",
    "    # Kelime bulutu oluştur\n",
    "    wordcloud = WordCloud(width=1000, height=400, background_color=\"white\").generate(text)\n",
    "\n",
    "    plt.figure(figsize=(15, 6))\n",
    "    plt.imshow(wordcloud, interpolation=\"bilinear\")\n",
    "    plt.axis(\"off\")\n",
    "    plt.title(\"Job Type Word Cloud\", fontsize=16)\n",
    "    plt.show()\n"
   ]
  },
  {
   "cell_type": "code",
   "execution_count": 8,
   "id": "ef86e080",
   "metadata": {},
   "outputs": [],
   "source": [
    "for job_element in job_elements:\n",
    "    date = job_element.find(\"time\")\n",
    "    if date:\n",
    "        print(date[\"datetime\"])  # ISO formatlı tarih\n"
   ]
  }
 ],
 "metadata": {
  "kernelspec": {
   "display_name": "env-env",
   "language": "python",
   "name": "python3"
  },
  "language_info": {
   "codemirror_mode": {
    "name": "ipython",
    "version": 3
   },
   "file_extension": ".py",
   "mimetype": "text/x-python",
   "name": "python",
   "nbconvert_exporter": "python",
   "pygments_lexer": "ipython3",
   "version": "3.10.16"
  }
 },
 "nbformat": 4,
 "nbformat_minor": 5
}
