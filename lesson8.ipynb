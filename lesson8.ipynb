{
 "cells": [
  {
   "cell_type": "markdown",
   "id": "1852e40c",
   "metadata": {},
   "source": [
    "## ML techniques:\n",
    "- The Regression/Estimation: predicting continuous values\n",
    "- Classification: predicting the item class/category of a case\n",
    "- Clustering: finding the structure of data; summarization\n",
    "- Associations: Associating frequent co-occurring items/events\n",
    "- Anomaly detection: discovering abnormal and unusual cases\n",
    "- Sequence mining: predicting next events; click-stream (Markov Model, HMM)\n",
    "- Dimension reduction: reducing the size of data (PCA)\n",
    "- Recommendation systems: recommending items"
   ]
  },
  {
   "cell_type": "markdown",
   "id": "d5b7f188",
   "metadata": {},
   "source": [
    "## Difference in AI, ML, DL?"
   ]
  },
  {
   "cell_type": "markdown",
   "id": "45c9e8ba",
   "metadata": {},
   "source": [
    "## Python for Machine Learning\n",
    "\n",
    "- numpy \n",
    "- pandas\n",
    "- matplotlib\n",
    "- scipy\n",
    "- scikit learn"
   ]
  },
  {
   "cell_type": "markdown",
   "id": "78386bff",
   "metadata": {},
   "source": [
    "## Supervised vs Unsupervised\n",
    "- labelled vs unlabelled data"
   ]
  },
  {
   "cell_type": "code",
   "execution_count": 2,
   "id": "ec139655",
   "metadata": {},
   "outputs": [],
   "source": [
    "import pandas as pd\n",
    "import numpy as np\n",
    "\n",
    "cancer_data = pd.read_csv(\"data/cancer_data.csv\")"
   ]
  },
  {
   "cell_type": "code",
   "execution_count": 3,
   "id": "9e1acbe8",
   "metadata": {},
   "outputs": [
    {
     "data": {
      "application/vnd.microsoft.datawrangler.viewer.v0+json": {
       "columns": [
        {
         "name": "index",
         "rawType": "int64",
         "type": "integer"
        },
        {
         "name": "id",
         "rawType": "int64",
         "type": "integer"
        },
        {
         "name": "diagnosis",
         "rawType": "object",
         "type": "string"
        },
        {
         "name": "radius_mean",
         "rawType": "float64",
         "type": "float"
        },
        {
         "name": "texture_mean",
         "rawType": "float64",
         "type": "float"
        },
        {
         "name": "perimeter_mean",
         "rawType": "float64",
         "type": "float"
        },
        {
         "name": "area_mean",
         "rawType": "float64",
         "type": "float"
        },
        {
         "name": "smoothness_mean",
         "rawType": "float64",
         "type": "float"
        },
        {
         "name": "compactness_mean",
         "rawType": "float64",
         "type": "float"
        },
        {
         "name": "concavity_mean",
         "rawType": "float64",
         "type": "float"
        },
        {
         "name": "concave points_mean",
         "rawType": "float64",
         "type": "float"
        },
        {
         "name": "symmetry_mean",
         "rawType": "float64",
         "type": "float"
        },
        {
         "name": "fractal_dimension_mean",
         "rawType": "float64",
         "type": "float"
        },
        {
         "name": "radius_se",
         "rawType": "float64",
         "type": "float"
        },
        {
         "name": "texture_se",
         "rawType": "float64",
         "type": "float"
        },
        {
         "name": "perimeter_se",
         "rawType": "float64",
         "type": "float"
        },
        {
         "name": "area_se",
         "rawType": "float64",
         "type": "float"
        },
        {
         "name": "smoothness_se",
         "rawType": "float64",
         "type": "float"
        },
        {
         "name": "compactness_se",
         "rawType": "float64",
         "type": "float"
        },
        {
         "name": "concavity_se",
         "rawType": "float64",
         "type": "float"
        },
        {
         "name": "concave points_se",
         "rawType": "float64",
         "type": "float"
        },
        {
         "name": "symmetry_se",
         "rawType": "float64",
         "type": "float"
        },
        {
         "name": "fractal_dimension_se",
         "rawType": "float64",
         "type": "float"
        },
        {
         "name": "radius_worst",
         "rawType": "float64",
         "type": "float"
        },
        {
         "name": "texture_worst",
         "rawType": "float64",
         "type": "float"
        },
        {
         "name": "perimeter_worst",
         "rawType": "float64",
         "type": "float"
        },
        {
         "name": "area_worst",
         "rawType": "float64",
         "type": "float"
        },
        {
         "name": "smoothness_worst",
         "rawType": "float64",
         "type": "float"
        },
        {
         "name": "compactness_worst",
         "rawType": "float64",
         "type": "float"
        },
        {
         "name": "concavity_worst",
         "rawType": "float64",
         "type": "float"
        },
        {
         "name": "concave points_worst",
         "rawType": "float64",
         "type": "float"
        },
        {
         "name": "symmetry_worst",
         "rawType": "float64",
         "type": "float"
        },
        {
         "name": "fractal_dimension_worst",
         "rawType": "float64",
         "type": "float"
        },
        {
         "name": "Unnamed: 32",
         "rawType": "float64",
         "type": "float"
        }
       ],
       "conversionMethod": "pd.DataFrame",
       "ref": "2c1257eb-4fce-4e1d-bbd1-15f47fad2792",
       "rows": [
        [
         "29",
         "853201",
         "M",
         "17.57",
         "15.05",
         "115.0",
         "955.1",
         "0.09847",
         "0.1157",
         "0.09875",
         "0.07953",
         "0.1739",
         "0.06149",
         "0.6003",
         "0.8225",
         "4.655",
         "61.1",
         "0.005627",
         "0.03033",
         "0.03407",
         "0.01354",
         "0.01925",
         "0.003742",
         "20.01",
         "19.52",
         "134.9",
         "1227.0",
         "0.1255",
         "0.2812",
         "0.2489",
         "0.1456",
         "0.2756",
         "0.07919",
         null
        ],
        [
         "69",
         "859487",
         "B",
         "12.78",
         "16.49",
         "81.37",
         "502.5",
         "0.09831",
         "0.05234",
         "0.03653",
         "0.02864",
         "0.159",
         "0.05653",
         "0.2368",
         "0.8732",
         "1.471",
         "18.33",
         "0.007962",
         "0.005612",
         "0.01585",
         "0.008662",
         "0.02254",
         "0.001906",
         "13.46",
         "19.76",
         "85.67",
         "554.9",
         "0.1296",
         "0.07061",
         "0.1039",
         "0.05882",
         "0.2383",
         "0.0641",
         null
        ],
        [
         "403",
         "9047",
         "B",
         "12.94",
         "16.17",
         "83.18",
         "507.6",
         "0.09879",
         "0.08836",
         "0.03296",
         "0.0239",
         "0.1735",
         "0.062",
         "0.1458",
         "0.905",
         "0.9975",
         "11.36",
         "0.002887",
         "0.01285",
         "0.01613",
         "0.007308",
         "0.0187",
         "0.001972",
         "13.86",
         "23.02",
         "89.69",
         "580.9",
         "0.1172",
         "0.1958",
         "0.181",
         "0.08388",
         "0.3297",
         "0.07834",
         null
        ],
        [
         "417",
         "90602302",
         "M",
         "15.5",
         "21.08",
         "102.9",
         "803.1",
         "0.112",
         "0.1571",
         "0.1522",
         "0.08481",
         "0.2085",
         "0.06864",
         "1.37",
         "1.213",
         "9.424",
         "176.5",
         "0.008198",
         "0.03889",
         "0.04493",
         "0.02139",
         "0.02018",
         "0.005815",
         "23.17",
         "27.65",
         "157.1",
         "1748.0",
         "0.1517",
         "0.4002",
         "0.4211",
         "0.2134",
         "0.3003",
         "0.1048",
         null
        ],
        [
         "456",
         "9112366",
         "B",
         "11.63",
         "29.29",
         "74.87",
         "415.1",
         "0.09357",
         "0.08574",
         "0.0716",
         "0.02017",
         "0.1799",
         "0.06166",
         "0.3135",
         "2.426",
         "2.15",
         "23.13",
         "0.009861",
         "0.02418",
         "0.04275",
         "0.009215",
         "0.02475",
         "0.002128",
         "13.12",
         "38.81",
         "86.04",
         "527.8",
         "0.1406",
         "0.2031",
         "0.2923",
         "0.06835",
         "0.2884",
         "0.0722",
         null
        ]
       ],
       "shape": {
        "columns": 33,
        "rows": 5
       }
      },
      "text/html": [
       "<div>\n",
       "<style scoped>\n",
       "    .dataframe tbody tr th:only-of-type {\n",
       "        vertical-align: middle;\n",
       "    }\n",
       "\n",
       "    .dataframe tbody tr th {\n",
       "        vertical-align: top;\n",
       "    }\n",
       "\n",
       "    .dataframe thead th {\n",
       "        text-align: right;\n",
       "    }\n",
       "</style>\n",
       "<table border=\"1\" class=\"dataframe\">\n",
       "  <thead>\n",
       "    <tr style=\"text-align: right;\">\n",
       "      <th></th>\n",
       "      <th>id</th>\n",
       "      <th>diagnosis</th>\n",
       "      <th>radius_mean</th>\n",
       "      <th>texture_mean</th>\n",
       "      <th>perimeter_mean</th>\n",
       "      <th>area_mean</th>\n",
       "      <th>smoothness_mean</th>\n",
       "      <th>compactness_mean</th>\n",
       "      <th>concavity_mean</th>\n",
       "      <th>concave points_mean</th>\n",
       "      <th>...</th>\n",
       "      <th>texture_worst</th>\n",
       "      <th>perimeter_worst</th>\n",
       "      <th>area_worst</th>\n",
       "      <th>smoothness_worst</th>\n",
       "      <th>compactness_worst</th>\n",
       "      <th>concavity_worst</th>\n",
       "      <th>concave points_worst</th>\n",
       "      <th>symmetry_worst</th>\n",
       "      <th>fractal_dimension_worst</th>\n",
       "      <th>Unnamed: 32</th>\n",
       "    </tr>\n",
       "  </thead>\n",
       "  <tbody>\n",
       "    <tr>\n",
       "      <th>29</th>\n",
       "      <td>853201</td>\n",
       "      <td>M</td>\n",
       "      <td>17.57</td>\n",
       "      <td>15.05</td>\n",
       "      <td>115.00</td>\n",
       "      <td>955.1</td>\n",
       "      <td>0.09847</td>\n",
       "      <td>0.11570</td>\n",
       "      <td>0.09875</td>\n",
       "      <td>0.07953</td>\n",
       "      <td>...</td>\n",
       "      <td>19.52</td>\n",
       "      <td>134.90</td>\n",
       "      <td>1227.0</td>\n",
       "      <td>0.1255</td>\n",
       "      <td>0.28120</td>\n",
       "      <td>0.2489</td>\n",
       "      <td>0.14560</td>\n",
       "      <td>0.2756</td>\n",
       "      <td>0.07919</td>\n",
       "      <td>NaN</td>\n",
       "    </tr>\n",
       "    <tr>\n",
       "      <th>69</th>\n",
       "      <td>859487</td>\n",
       "      <td>B</td>\n",
       "      <td>12.78</td>\n",
       "      <td>16.49</td>\n",
       "      <td>81.37</td>\n",
       "      <td>502.5</td>\n",
       "      <td>0.09831</td>\n",
       "      <td>0.05234</td>\n",
       "      <td>0.03653</td>\n",
       "      <td>0.02864</td>\n",
       "      <td>...</td>\n",
       "      <td>19.76</td>\n",
       "      <td>85.67</td>\n",
       "      <td>554.9</td>\n",
       "      <td>0.1296</td>\n",
       "      <td>0.07061</td>\n",
       "      <td>0.1039</td>\n",
       "      <td>0.05882</td>\n",
       "      <td>0.2383</td>\n",
       "      <td>0.06410</td>\n",
       "      <td>NaN</td>\n",
       "    </tr>\n",
       "    <tr>\n",
       "      <th>403</th>\n",
       "      <td>9047</td>\n",
       "      <td>B</td>\n",
       "      <td>12.94</td>\n",
       "      <td>16.17</td>\n",
       "      <td>83.18</td>\n",
       "      <td>507.6</td>\n",
       "      <td>0.09879</td>\n",
       "      <td>0.08836</td>\n",
       "      <td>0.03296</td>\n",
       "      <td>0.02390</td>\n",
       "      <td>...</td>\n",
       "      <td>23.02</td>\n",
       "      <td>89.69</td>\n",
       "      <td>580.9</td>\n",
       "      <td>0.1172</td>\n",
       "      <td>0.19580</td>\n",
       "      <td>0.1810</td>\n",
       "      <td>0.08388</td>\n",
       "      <td>0.3297</td>\n",
       "      <td>0.07834</td>\n",
       "      <td>NaN</td>\n",
       "    </tr>\n",
       "    <tr>\n",
       "      <th>417</th>\n",
       "      <td>90602302</td>\n",
       "      <td>M</td>\n",
       "      <td>15.50</td>\n",
       "      <td>21.08</td>\n",
       "      <td>102.90</td>\n",
       "      <td>803.1</td>\n",
       "      <td>0.11200</td>\n",
       "      <td>0.15710</td>\n",
       "      <td>0.15220</td>\n",
       "      <td>0.08481</td>\n",
       "      <td>...</td>\n",
       "      <td>27.65</td>\n",
       "      <td>157.10</td>\n",
       "      <td>1748.0</td>\n",
       "      <td>0.1517</td>\n",
       "      <td>0.40020</td>\n",
       "      <td>0.4211</td>\n",
       "      <td>0.21340</td>\n",
       "      <td>0.3003</td>\n",
       "      <td>0.10480</td>\n",
       "      <td>NaN</td>\n",
       "    </tr>\n",
       "    <tr>\n",
       "      <th>456</th>\n",
       "      <td>9112366</td>\n",
       "      <td>B</td>\n",
       "      <td>11.63</td>\n",
       "      <td>29.29</td>\n",
       "      <td>74.87</td>\n",
       "      <td>415.1</td>\n",
       "      <td>0.09357</td>\n",
       "      <td>0.08574</td>\n",
       "      <td>0.07160</td>\n",
       "      <td>0.02017</td>\n",
       "      <td>...</td>\n",
       "      <td>38.81</td>\n",
       "      <td>86.04</td>\n",
       "      <td>527.8</td>\n",
       "      <td>0.1406</td>\n",
       "      <td>0.20310</td>\n",
       "      <td>0.2923</td>\n",
       "      <td>0.06835</td>\n",
       "      <td>0.2884</td>\n",
       "      <td>0.07220</td>\n",
       "      <td>NaN</td>\n",
       "    </tr>\n",
       "  </tbody>\n",
       "</table>\n",
       "<p>5 rows × 33 columns</p>\n",
       "</div>"
      ],
      "text/plain": [
       "           id diagnosis  radius_mean  texture_mean  perimeter_mean  area_mean  \\\n",
       "29     853201         M        17.57         15.05          115.00      955.1   \n",
       "69     859487         B        12.78         16.49           81.37      502.5   \n",
       "403      9047         B        12.94         16.17           83.18      507.6   \n",
       "417  90602302         M        15.50         21.08          102.90      803.1   \n",
       "456   9112366         B        11.63         29.29           74.87      415.1   \n",
       "\n",
       "     smoothness_mean  compactness_mean  concavity_mean  concave points_mean  \\\n",
       "29           0.09847           0.11570         0.09875              0.07953   \n",
       "69           0.09831           0.05234         0.03653              0.02864   \n",
       "403          0.09879           0.08836         0.03296              0.02390   \n",
       "417          0.11200           0.15710         0.15220              0.08481   \n",
       "456          0.09357           0.08574         0.07160              0.02017   \n",
       "\n",
       "     ...  texture_worst  perimeter_worst  area_worst  smoothness_worst  \\\n",
       "29   ...          19.52           134.90      1227.0            0.1255   \n",
       "69   ...          19.76            85.67       554.9            0.1296   \n",
       "403  ...          23.02            89.69       580.9            0.1172   \n",
       "417  ...          27.65           157.10      1748.0            0.1517   \n",
       "456  ...          38.81            86.04       527.8            0.1406   \n",
       "\n",
       "     compactness_worst  concavity_worst  concave points_worst  symmetry_worst  \\\n",
       "29             0.28120           0.2489               0.14560          0.2756   \n",
       "69             0.07061           0.1039               0.05882          0.2383   \n",
       "403            0.19580           0.1810               0.08388          0.3297   \n",
       "417            0.40020           0.4211               0.21340          0.3003   \n",
       "456            0.20310           0.2923               0.06835          0.2884   \n",
       "\n",
       "     fractal_dimension_worst  Unnamed: 32  \n",
       "29                   0.07919          NaN  \n",
       "69                   0.06410          NaN  \n",
       "403                  0.07834          NaN  \n",
       "417                  0.10480          NaN  \n",
       "456                  0.07220          NaN  \n",
       "\n",
       "[5 rows x 33 columns]"
      ]
     },
     "execution_count": 3,
     "metadata": {},
     "output_type": "execute_result"
    }
   ],
   "source": [
    "cancer_data.sample(5)"
   ]
  },
  {
   "cell_type": "markdown",
   "id": "cddfd836",
   "metadata": {},
   "source": [
    "2 types of supervised techniques: classification and regression"
   ]
  },
  {
   "cell_type": "code",
   "execution_count": 4,
   "id": "458ca546",
   "metadata": {},
   "outputs": [
    {
     "data": {
      "text/plain": [
       "id                           int64\n",
       "diagnosis                   object\n",
       "radius_mean                float64\n",
       "texture_mean               float64\n",
       "perimeter_mean             float64\n",
       "area_mean                  float64\n",
       "smoothness_mean            float64\n",
       "compactness_mean           float64\n",
       "concavity_mean             float64\n",
       "concave points_mean        float64\n",
       "symmetry_mean              float64\n",
       "fractal_dimension_mean     float64\n",
       "radius_se                  float64\n",
       "texture_se                 float64\n",
       "perimeter_se               float64\n",
       "area_se                    float64\n",
       "smoothness_se              float64\n",
       "compactness_se             float64\n",
       "concavity_se               float64\n",
       "concave points_se          float64\n",
       "symmetry_se                float64\n",
       "fractal_dimension_se       float64\n",
       "radius_worst               float64\n",
       "texture_worst              float64\n",
       "perimeter_worst            float64\n",
       "area_worst                 float64\n",
       "smoothness_worst           float64\n",
       "compactness_worst          float64\n",
       "concavity_worst            float64\n",
       "concave points_worst       float64\n",
       "symmetry_worst             float64\n",
       "fractal_dimension_worst    float64\n",
       "Unnamed: 32                float64\n",
       "dtype: object"
      ]
     },
     "execution_count": 4,
     "metadata": {},
     "output_type": "execute_result"
    }
   ],
   "source": [
    "cancer_data.dtypes"
   ]
  },
  {
   "cell_type": "code",
   "execution_count": 5,
   "id": "9fb1836a",
   "metadata": {},
   "outputs": [],
   "source": [
    "cancer_data[\"diagnosis\"] = cancer_data[\"diagnosis\"].astype(\"category\")"
   ]
  },
  {
   "cell_type": "code",
   "execution_count": 6,
   "id": "29683188",
   "metadata": {},
   "outputs": [
    {
     "data": {
      "text/plain": [
       "id                            int64\n",
       "diagnosis                  category\n",
       "radius_mean                 float64\n",
       "texture_mean                float64\n",
       "perimeter_mean              float64\n",
       "area_mean                   float64\n",
       "smoothness_mean             float64\n",
       "compactness_mean            float64\n",
       "concavity_mean              float64\n",
       "concave points_mean         float64\n",
       "symmetry_mean               float64\n",
       "fractal_dimension_mean      float64\n",
       "radius_se                   float64\n",
       "texture_se                  float64\n",
       "perimeter_se                float64\n",
       "area_se                     float64\n",
       "smoothness_se               float64\n",
       "compactness_se              float64\n",
       "concavity_se                float64\n",
       "concave points_se           float64\n",
       "symmetry_se                 float64\n",
       "fractal_dimension_se        float64\n",
       "radius_worst                float64\n",
       "texture_worst               float64\n",
       "perimeter_worst             float64\n",
       "area_worst                  float64\n",
       "smoothness_worst            float64\n",
       "compactness_worst           float64\n",
       "concavity_worst             float64\n",
       "concave points_worst        float64\n",
       "symmetry_worst              float64\n",
       "fractal_dimension_worst     float64\n",
       "Unnamed: 32                 float64\n",
       "dtype: object"
      ]
     },
     "execution_count": 6,
     "metadata": {},
     "output_type": "execute_result"
    }
   ],
   "source": [
    "cancer_data.dtypes"
   ]
  },
  {
   "cell_type": "code",
   "execution_count": 7,
   "id": "48f002f9",
   "metadata": {},
   "outputs": [
    {
     "data": {
      "text/plain": [
       "Index(['radius_mean', 'texture_mean', 'perimeter_mean', 'area_mean',\n",
       "       'smoothness_mean', 'compactness_mean', 'concavity_mean',\n",
       "       'concave points_mean', 'symmetry_mean', 'fractal_dimension_mean',\n",
       "       'radius_se', 'texture_se', 'perimeter_se', 'area_se', 'smoothness_se',\n",
       "       'compactness_se', 'concavity_se', 'concave points_se', 'symmetry_se',\n",
       "       'fractal_dimension_se', 'radius_worst', 'texture_worst',\n",
       "       'perimeter_worst', 'area_worst', 'smoothness_worst',\n",
       "       'compactness_worst', 'concavity_worst', 'concave points_worst',\n",
       "       'symmetry_worst', 'fractal_dimension_worst', 'Unnamed: 32'],\n",
       "      dtype='object')"
      ]
     },
     "execution_count": 7,
     "metadata": {},
     "output_type": "execute_result"
    }
   ],
   "source": [
    "cancer_data.columns[2:]"
   ]
  },
  {
   "cell_type": "markdown",
   "id": "6a455b57",
   "metadata": {},
   "source": [
    "# example"
   ]
  },
  {
   "cell_type": "code",
   "execution_count": 8,
   "id": "c214cf5d",
   "metadata": {},
   "outputs": [],
   "source": [
    "import matplotlib.pyplot as plt\n",
    "import pandas as pd\n",
    "import pylab as pl\n",
    "import numpy as np\n",
    "%matplotlib inline"
   ]
  },
  {
   "cell_type": "code",
   "execution_count": 9,
   "id": "8aa072ca",
   "metadata": {},
   "outputs": [],
   "source": [
    "# !wget -O FuelConsumption.csv https://cf-courses-data.s3.us.cloud-object-storage.appdomain.cloud/IBMDeveloperSkillsNetwork-ML0101EN-SkillsNetwork/labs/Module%202/data/FuelConsumptionCo2.csv\n",
    "\n",
    "# !curl https://cf-courses-data.s3.us.cloud-object-storage.appdomain.cloud/IBMDeveloperSkillsNetwork-ML0101EN-SkillsNetwork/labs/Module%202/data/FuelConsumptionCo2.csv -o FuelConsumptionCo2.csv"
   ]
  }
 ],
 "metadata": {
  "kernelspec": {
   "display_name": "env-env",
   "language": "python",
   "name": "python3"
  },
  "language_info": {
   "codemirror_mode": {
    "name": "ipython",
    "version": 3
   },
   "file_extension": ".py",
   "mimetype": "text/x-python",
   "name": "python",
   "nbconvert_exporter": "python",
   "pygments_lexer": "ipython3",
   "version": "3.10.16"
  }
 },
 "nbformat": 4,
 "nbformat_minor": 5
}
